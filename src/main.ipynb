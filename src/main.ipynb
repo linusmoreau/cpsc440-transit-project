{
 "cells": [
  {
   "cell_type": "code",
   "execution_count": null,
   "id": "beb888fa",
   "metadata": {},
   "outputs": [],
   "source": [
    "import os\n",
    "import pandas as pd\n",
    "from matplotlib import pyplot as plt\n",
    "import datetime\n",
    "from zoneinfo import ZoneInfo\n",
    "\n",
    "from constants import DATA_DIR"
   ]
  },
  {
   "cell_type": "code",
   "execution_count": null,
   "id": "95ee4a85",
   "metadata": {},
   "outputs": [],
   "source": [
    "path = os.path.join(DATA_DIR, \"bus\", \"sf\", \"2025-03-09.parquet\")\n",
    "vehicle_df = pd.read_parquet(path, engine=\"fastparquet\")\n",
    "\n",
    "# Remove rows without valid stop_id\n",
    "vehicle_df = vehicle_df[vehicle_df[\"vehicle.stop_id\"].notnull()]\n",
    "vehicle_df = vehicle_df.astype({\"vehicle.stop_id\": \"int64\"})\n",
    "\n",
    "# Remove rows without valid trip_id and convert trip_id to int\n",
    "vehicle_df = vehicle_df[vehicle_df[\"vehicle.trip.trip_id\"].notnull()]\n",
    "vehicle_df[\"vehicle.trip_id\"] = vehicle_df.apply(lambda row: int(row[\"vehicle.trip.trip_id\"].split(\"_\")[0]), axis=1)\n",
    "\n",
    "# Only keep necessary columns\n",
    "vehicle_df = vehicle_df[[\"vehicle.trip_id\", \"vehicle.timestamp\", \"vehicle.stop_id\", \"vehicle.trip.route_id\", \"vehicle.trip.direction_id\"]]\n",
    "\n",
    "# Only keep the last record before a bus arrives \n",
    "vehicle_df.drop_duplicates(subset=[\"vehicle.trip_id\", \"vehicle.stop_id\"], keep=\"last\", inplace=True)"
   ]
  },
  {
   "cell_type": "code",
   "execution_count": null,
   "id": "7eacc802",
   "metadata": {},
   "outputs": [],
   "source": [
    "path = os.path.join(DATA_DIR, \"stop_times.txt\")\n",
    "stop_time_df = pd.read_csv(path)\n",
    "stop_time_df = stop_time_df[[\"trip_id\", \"departure_time\", \"stop_id\"]]\n",
    "\n",
    "path = os.path.join(DATA_DIR, \"stops.txt\")\n",
    "stop_df = pd.read_csv(path)\n",
    "stop_df = stop_df[[\"stop_id\", \"stop_code\"]]\n",
    "\n",
    "# Add stop code info to stop times and only keep necessary columns\n",
    "schedule_df = stop_time_df.join(stop_df.set_index(\"stop_id\"), on=\"stop_id\")[[\"trip_id\", \"departure_time\", \"stop_code\"]]\n",
    "del stop_time_df\n",
    "del stop_df\n",
    "\n",
    "# Drop all stops that appear twice in a trip to simplify comparisons\n",
    "schedule_df.drop_duplicates(subset=[\"trip_id\", \"stop_code\"], keep=False, inplace=True)"
   ]
  },
  {
   "cell_type": "code",
   "execution_count": null,
   "id": "9624c18b",
   "metadata": {},
   "outputs": [],
   "source": [
    "delay_df = pd.merge(\n",
    "    left=vehicle_df, \n",
    "    right=schedule_df, \n",
    "    left_on=[\"vehicle.trip_id\", \"vehicle.stop_id\"], \n",
    "    right_on=[\"trip_id\", \"stop_code\"],\n",
    "    validate=\"1:1\"\n",
    ")[[\"trip_id\", \"stop_code\", \"vehicle.timestamp\", \"departure_time\", \"vehicle.trip.route_id\", \"vehicle.trip.direction_id\"]]\n",
    "del vehicle_df\n",
    "del schedule_df\n",
    "delay_df"
   ]
  },
  {
   "cell_type": "code",
   "execution_count": null,
   "id": "c358c4e5",
   "metadata": {},
   "outputs": [],
   "source": [
    "def get_delay(actual_time: datetime.datetime, scheduled_time: str) -> int:\n",
    "    tz = ZoneInfo(\"America/Los_Angeles\")\n",
    "    t = scheduled_time.split(\":\")\n",
    "    h = int(t[0]) % 24\n",
    "    m = int(t[1])\n",
    "    s = int(t[2])\n",
    "    schedule_timestamp = actual_time.replace(hour=h, minute=m, second=s, tzinfo=tz)\n",
    "    naive = schedule_timestamp.replace(tzinfo=None) - datetime.timedelta(1)\n",
    "    schedule_timestamp_adjust = naive.replace(tzinfo=tz)\n",
    "    dif = actual_time - schedule_timestamp\n",
    "    dif_adjust = actual_time - schedule_timestamp_adjust\n",
    "    if abs(dif_adjust) < abs(dif):\n",
    "        dif = dif_adjust\n",
    "        schedule_timestamp = schedule_timestamp_adjust\n",
    "    return int(dif.total_seconds() / 60), schedule_timestamp.astimezone(datetime.UTC)\n"
   ]
  },
  {
   "cell_type": "code",
   "execution_count": null,
   "id": "986e294e",
   "metadata": {},
   "outputs": [],
   "source": [
    "delay_df[[\"delay\", \"schedule_time\"]] = delay_df.apply(lambda row: get_delay(row[\"vehicle.timestamp\"], row[\"departure_time\"]), axis=1, result_type=\"expand\")\n",
    "delay_df = delay_df[abs(delay_df[\"delay\"]) < 60]\n",
    "delay_df = delay_df[[\"trip_id\", \"stop_code\", \"vehicle.timestamp\", \"schedule_time\", \"delay\", \"vehicle.trip.route_id\", \"vehicle.trip.direction_id\"]]"
   ]
  },
  {
   "cell_type": "code",
   "execution_count": null,
   "id": "759ca8d4",
   "metadata": {},
   "outputs": [],
   "source": [
    "plt.hist(delay_df[\"delay\"], bins=100)\n",
    "plt.show()\n",
    "delay_df"
   ]
  }
 ],
 "metadata": {
  "kernelspec": {
   "display_name": "Python 3",
   "language": "python",
   "name": "python3"
  },
  "language_info": {
   "codemirror_mode": {
    "name": "ipython",
    "version": 3
   },
   "file_extension": ".py",
   "mimetype": "text/x-python",
   "name": "python",
   "nbconvert_exporter": "python",
   "pygments_lexer": "ipython3",
   "version": "3.13.2"
  }
 },
 "nbformat": 4,
 "nbformat_minor": 5
}
