{
 "cells": [
  {
   "cell_type": "code",
   "execution_count": 1,
   "id": "c078c9e8",
   "metadata": {},
   "outputs": [],
   "source": [
    "# import bus_processing\n",
    "import bus_prediction\n",
    "import os\n",
    "import pandas as pd\n",
    "from constants import DATA_DIR"
   ]
  },
  {
   "cell_type": "code",
   "execution_count": 2,
   "id": "1065d206",
   "metadata": {},
   "outputs": [],
   "source": [
    "def load_bus_data():\n",
    "    path = os.path.join(DATA_DIR, \"dataset.csv\")\n",
    "    df = pd.read_csv(path)\n",
    "    return df"
   ]
  },
  {
   "cell_type": "code",
   "execution_count": 3,
   "id": "20042c96",
   "metadata": {},
   "outputs": [],
   "source": [
    "bus_data = load_bus_data()"
   ]
  },
  {
   "cell_type": "code",
   "execution_count": 4,
   "id": "bf65ab0c",
   "metadata": {},
   "outputs": [],
   "source": [
    "bus_data[\"time_bucket\"] = pd.to_datetime(bus_data[\"time_bucket\"], utc=True)"
   ]
  },
  {
   "cell_type": "code",
   "execution_count": 5,
   "id": "f303d6f1",
   "metadata": {},
   "outputs": [],
   "source": [
    "X_train, y_train, X_test, y_test = bus_prediction.prepare_bus_data(bus_data)"
   ]
  },
  {
   "cell_type": "code",
   "execution_count": 6,
   "id": "8145ce04",
   "metadata": {},
   "outputs": [],
   "source": [
    "lstm_model = bus_prediction.LSTMModule(input_size=X_train.shape[1], hidden_size=64, num_layers=5, dropout=0.1)\n",
    "lstm_predictor = bus_prediction.LSTMPredictor(lstm_model, window_size=10)"
   ]
  },
  {
   "cell_type": "code",
   "execution_count": 7,
   "id": "df2c9064",
   "metadata": {},
   "outputs": [
    {
     "name": "stderr",
     "output_type": "stream",
     "text": [
      "/Users/legendword/Documents/zwh/Coding/CPSC440/cpsc440-transit-project/src/bus_prediction.py:31: UserWarning: Creating a tensor from a list of numpy.ndarrays is extremely slow. Please consider converting the list to a single numpy.ndarray with numpy.array() before converting to a tensor. (Triggered internally at /Users/runner/work/pytorch/pytorch/pytorch/torch/csrc/utils/tensor_new.cpp:281.)\n",
      "  self.X = torch.tensor(X_lagged, dtype=torch.float32)\n"
     ]
    },
    {
     "name": "stdout",
     "output_type": "stream",
     "text": [
      "Epoch 1/20, Train Loss: 1.5495, Val Loss: 0.9400\n",
      "Epoch 2/20, Train Loss: 1.4579, Val Loss: 0.8963\n",
      "Epoch 3/20, Train Loss: 1.4322, Val Loss: 0.8315\n",
      "Epoch 4/20, Train Loss: 1.2970, Val Loss: 0.7655\n",
      "Epoch 5/20, Train Loss: 1.2481, Val Loss: 0.8710\n",
      "Epoch 6/20, Train Loss: 1.2080, Val Loss: 0.8774\n",
      "Epoch 7/20, Train Loss: 1.1769, Val Loss: 0.8047\n",
      "Epoch 8/20, Train Loss: 1.0899, Val Loss: 0.6750\n",
      "Epoch 9/20, Train Loss: 0.9542, Val Loss: 0.5174\n",
      "Epoch 10/20, Train Loss: 0.8783, Val Loss: 0.4519\n",
      "Epoch 11/20, Train Loss: 0.7632, Val Loss: 0.5424\n",
      "Epoch 12/20, Train Loss: 0.6833, Val Loss: 0.5073\n",
      "Epoch 13/20, Train Loss: 0.7020, Val Loss: 1.0504\n",
      "Epoch 14/20, Train Loss: 0.6551, Val Loss: 0.3633\n",
      "Epoch 15/20, Train Loss: 0.6308, Val Loss: 0.4954\n",
      "Epoch 16/20, Train Loss: 0.6071, Val Loss: 0.5939\n",
      "Epoch 17/20, Train Loss: 0.6211, Val Loss: 0.4169\n",
      "Epoch 18/20, Train Loss: 0.5647, Val Loss: 0.5671\n",
      "Epoch 19/20, Train Loss: 0.5357, Val Loss: 0.4557\n",
      "Epoch 20/20, Train Loss: 0.5588, Val Loss: 0.7497\n"
     ]
    }
   ],
   "source": [
    "lstm_predictor.train(X_train.values, y_train.values, epochs=20)"
   ]
  },
  {
   "cell_type": "code",
   "execution_count": null,
   "id": "b7b4ef29",
   "metadata": {},
   "outputs": [
    {
     "name": "stderr",
     "output_type": "stream",
     "text": [
      "/Users/legendword/Documents/zwh/Coding/CPSC440/cpsc440-transit-project/src/bus_prediction.py:66: SettingWithCopyWarning: \n",
      "A value is trying to be set on a copy of a slice from a DataFrame.\n",
      "Try using .loc[row_indexer,col_indexer] = value instead\n",
      "\n",
      "See the caveats in the documentation: https://pandas.pydata.org/pandas-docs/stable/user_guide/indexing.html#returning-a-view-versus-a-copy\n",
      "  X[\"avg_delay\"] = X[\"delay_total\"] / X[\"count\"]\n",
      "/Users/legendword/Documents/zwh/Coding/CPSC440/cpsc440-transit-project/src/bus_prediction.py:30: UserWarning: Creating a tensor from a list of numpy.ndarrays is extremely slow. Please consider converting the list to a single numpy.ndarray with numpy.array() before converting to a tensor. (Triggered internally at /Users/runner/work/pytorch/pytorch/pytorch/torch/csrc/utils/tensor_new.cpp:281.)\n",
      "  self.X = torch.tensor(X, dtype=torch.float32).unsqueeze(\n"
     ]
    },
    {
     "name": "stdout",
     "output_type": "stream",
     "text": [
      "Epoch 1/10, Train Loss: 0.7393, Val Loss: 0.2799\n",
      "Epoch 2/10, Train Loss: 0.4401, Val Loss: 0.2299\n",
      "Epoch 3/10, Train Loss: 0.4179, Val Loss: 0.2225\n",
      "Epoch 4/10, Train Loss: 0.4008, Val Loss: 0.2206\n",
      "Epoch 5/10, Train Loss: 0.3946, Val Loss: 0.2244\n",
      "Epoch 6/10, Train Loss: 0.3886, Val Loss: 0.2188\n",
      "Epoch 7/10, Train Loss: 0.3765, Val Loss: 0.2190\n",
      "Epoch 8/10, Train Loss: 0.3723, Val Loss: 0.2181\n",
      "Epoch 9/10, Train Loss: 0.3626, Val Loss: 0.2222\n",
      "Epoch 10/10, Train Loss: 0.3606, Val Loss: 0.2240\n"
     ]
    }
   ],
   "source": [
    "lstm_predictor.train(bus_train) # old output"
   ]
  },
  {
   "cell_type": "code",
   "execution_count": null,
   "id": "5c4cd46c",
   "metadata": {},
   "outputs": [],
   "source": []
  }
 ],
 "metadata": {
  "kernelspec": {
   "display_name": "python3",
   "language": "python",
   "name": "python3"
  },
  "language_info": {
   "codemirror_mode": {
    "name": "ipython",
    "version": 3
   },
   "file_extension": ".py",
   "mimetype": "text/x-python",
   "name": "python",
   "nbconvert_exporter": "python",
   "pygments_lexer": "ipython3",
   "version": "3.12.6"
  }
 },
 "nbformat": 4,
 "nbformat_minor": 5
}
