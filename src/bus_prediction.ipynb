{
 "cells": [
  {
   "cell_type": "code",
   "execution_count": 1,
   "id": "c078c9e8",
   "metadata": {},
   "outputs": [],
   "source": [
    "# import bus_processing\n",
    "import bus_prediction\n",
    "import os\n",
    "import pandas as pd\n",
    "from constants import DATA_DIR"
   ]
  },
  {
   "cell_type": "code",
   "execution_count": 2,
   "id": "1065d206",
   "metadata": {},
   "outputs": [],
   "source": [
    "def load_bus_data():\n",
    "    path = os.path.join(DATA_DIR, \"bus-aggregate\", \"all\", \"all\" + \".csv\")\n",
    "    df = pd.read_csv(path, parse_dates=[\"time_bucket\"])\n",
    "    return df"
   ]
  },
  {
   "cell_type": "code",
   "execution_count": 3,
   "id": "20042c96",
   "metadata": {},
   "outputs": [],
   "source": [
    "bus_data = load_bus_data()"
   ]
  },
  {
   "cell_type": "code",
   "execution_count": 4,
   "id": "f303d6f1",
   "metadata": {},
   "outputs": [
    {
     "name": "stdout",
     "output_type": "stream",
     "text": [
      "Train data shape: (13792, 5)\n",
      "Test data shape: (2232, 5)\n"
     ]
    }
   ],
   "source": [
    "bus_train, bus_test = bus_prediction.prepare_bus_data(bus_data)"
   ]
  },
  {
   "cell_type": "code",
   "execution_count": 5,
   "id": "8145ce04",
   "metadata": {},
   "outputs": [],
   "source": [
    "lstm_model = bus_prediction.LSTMModule()\n",
    "lstm_predictor = bus_prediction.LSTMPredictor(lstm_model)"
   ]
  },
  {
   "cell_type": "code",
   "execution_count": 6,
   "id": "b7b4ef29",
   "metadata": {},
   "outputs": [
    {
     "name": "stderr",
     "output_type": "stream",
     "text": [
      "/Users/legendword/Documents/zwh/Coding/CPSC440/cpsc440-transit-project/src/bus_prediction.py:66: SettingWithCopyWarning: \n",
      "A value is trying to be set on a copy of a slice from a DataFrame.\n",
      "Try using .loc[row_indexer,col_indexer] = value instead\n",
      "\n",
      "See the caveats in the documentation: https://pandas.pydata.org/pandas-docs/stable/user_guide/indexing.html#returning-a-view-versus-a-copy\n",
      "  X[\"avg_delay\"] = X[\"delay_total\"] / X[\"count\"]\n",
      "/Users/legendword/Documents/zwh/Coding/CPSC440/cpsc440-transit-project/src/bus_prediction.py:30: UserWarning: Creating a tensor from a list of numpy.ndarrays is extremely slow. Please consider converting the list to a single numpy.ndarray with numpy.array() before converting to a tensor. (Triggered internally at /Users/runner/work/pytorch/pytorch/pytorch/torch/csrc/utils/tensor_new.cpp:281.)\n",
      "  self.X = torch.tensor(X, dtype=torch.float32).unsqueeze(\n"
     ]
    },
    {
     "name": "stdout",
     "output_type": "stream",
     "text": [
      "Epoch 1/10, Train Loss: 0.7393, Val Loss: 0.2799\n",
      "Epoch 2/10, Train Loss: 0.4401, Val Loss: 0.2299\n",
      "Epoch 3/10, Train Loss: 0.4179, Val Loss: 0.2225\n",
      "Epoch 4/10, Train Loss: 0.4008, Val Loss: 0.2206\n",
      "Epoch 5/10, Train Loss: 0.3946, Val Loss: 0.2244\n",
      "Epoch 6/10, Train Loss: 0.3886, Val Loss: 0.2188\n",
      "Epoch 7/10, Train Loss: 0.3765, Val Loss: 0.2190\n",
      "Epoch 8/10, Train Loss: 0.3723, Val Loss: 0.2181\n",
      "Epoch 9/10, Train Loss: 0.3626, Val Loss: 0.2222\n",
      "Epoch 10/10, Train Loss: 0.3606, Val Loss: 0.2240\n"
     ]
    }
   ],
   "source": [
    "lstm_predictor.train(bus_train)"
   ]
  },
  {
   "cell_type": "code",
   "execution_count": null,
   "id": "5c4cd46c",
   "metadata": {},
   "outputs": [],
   "source": []
  }
 ],
 "metadata": {
  "kernelspec": {
   "display_name": "python3",
   "language": "python",
   "name": "python3"
  },
  "language_info": {
   "codemirror_mode": {
    "name": "ipython",
    "version": 3
   },
   "file_extension": ".py",
   "mimetype": "text/x-python",
   "name": "python",
   "nbconvert_exporter": "python",
   "pygments_lexer": "ipython3",
   "version": "3.12.6"
  }
 },
 "nbformat": 4,
 "nbformat_minor": 5
}
