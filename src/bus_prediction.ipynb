{
 "cells": [
  {
   "cell_type": "code",
   "execution_count": 1,
   "id": "c078c9e8",
   "metadata": {},
   "outputs": [
    {
     "name": "stderr",
     "output_type": "stream",
     "text": [
      "/Users/legendword/python3/lib/python3.12/site-packages/transformers/utils/generic.py:441: FutureWarning: `torch.utils._pytree._register_pytree_node` is deprecated. Please use `torch.utils._pytree.register_pytree_node` instead.\n",
      "  _torch_pytree._register_pytree_node(\n"
     ]
    }
   ],
   "source": [
    "# import bus_processing\n",
    "import bus_prediction\n",
    "import os\n",
    "import pandas as pd\n",
    "from constants import DATA_DIR"
   ]
  },
  {
   "cell_type": "code",
   "execution_count": 2,
   "id": "1065d206",
   "metadata": {},
   "outputs": [],
   "source": [
    "def load_bus_data():\n",
    "    path = os.path.join(DATA_DIR, \"dataset.csv\")\n",
    "    df = pd.read_csv(path)\n",
    "    return df\n",
    "\n",
    "bus_data = load_bus_data()\n",
    "bus_data[\"time_bucket\"] = pd.to_datetime(bus_data[\"time_bucket\"], utc=True)\n",
    "X_train, y_train, X_test, y_test = bus_prediction.prepare_bus_data(bus_data)"
   ]
  },
  {
   "cell_type": "markdown",
   "id": "2ee6d1f7",
   "metadata": {},
   "source": [
    "## LSTM"
   ]
  },
  {
   "cell_type": "markdown",
   "id": "80e71a46",
   "metadata": {},
   "source": [
    "### Next-period prediction"
   ]
  },
  {
   "cell_type": "code",
   "execution_count": 7,
   "id": "c06d907a",
   "metadata": {},
   "outputs": [
    {
     "name": "stdout",
     "output_type": "stream",
     "text": [
      "Epoch 1/30, Train Loss: 1.2878, Val Loss: 0.5795\n",
      "Epoch 2/30, Train Loss: 0.6859, Val Loss: 0.3997\n",
      "Epoch 3/30, Train Loss: 0.5414, Val Loss: 0.3108\n",
      "Epoch 4/30, Train Loss: 0.5374, Val Loss: 0.3307\n",
      "Epoch 5/30, Train Loss: 0.5131, Val Loss: 0.3163\n",
      "Epoch 6/30, Train Loss: 0.4938, Val Loss: 0.3337\n",
      "Epoch 7/30, Train Loss: 0.4965, Val Loss: 0.2626\n",
      "Epoch 8/30, Train Loss: 0.4800, Val Loss: 0.3052\n",
      "Epoch 9/30, Train Loss: 0.4930, Val Loss: 0.2481\n",
      "Epoch 10/30, Train Loss: 0.4948, Val Loss: 0.2578\n",
      "Epoch 11/30, Train Loss: 0.4748, Val Loss: 0.2610\n",
      "Epoch 12/30, Train Loss: 0.4516, Val Loss: 0.2792\n",
      "Epoch 13/30, Train Loss: 0.4722, Val Loss: 0.2688\n",
      "Epoch 14/30, Train Loss: 0.4413, Val Loss: 0.2981\n",
      "Epoch 15/30, Train Loss: 0.4276, Val Loss: 0.2571\n",
      "Epoch 16/30, Train Loss: 0.4566, Val Loss: 0.2763\n",
      "Epoch 17/30, Train Loss: 0.4388, Val Loss: 0.2622\n",
      "Epoch 18/30, Train Loss: 0.4630, Val Loss: 0.2815\n",
      "Epoch 19/30, Train Loss: 0.4103, Val Loss: 0.2846\n",
      "Epoch 20/30, Train Loss: 0.3852, Val Loss: 0.2760\n",
      "Epoch 21/30, Train Loss: 0.4115, Val Loss: 0.2604\n",
      "Epoch 22/30, Train Loss: 0.3685, Val Loss: 0.2996\n",
      "Epoch 23/30, Train Loss: 0.3626, Val Loss: 0.2377\n",
      "Epoch 24/30, Train Loss: 0.3637, Val Loss: 0.2438\n",
      "Epoch 25/30, Train Loss: 0.3570, Val Loss: 0.2488\n",
      "Epoch 26/30, Train Loss: 0.3782, Val Loss: 0.2855\n",
      "Epoch 27/30, Train Loss: 0.3607, Val Loss: 0.2450\n",
      "Epoch 28/30, Train Loss: 0.3282, Val Loss: 0.2529\n",
      "Epoch 29/30, Train Loss: 0.3377, Val Loss: 0.2479\n",
      "Epoch 30/30, Train Loss: 0.4693, Val Loss: 0.3277\n",
      "Shape of y_pred: (2130,)\n",
      "Shape of test_y: (2130,)\n",
      "LSTM Test MSE: 0.2858\n"
     ]
    }
   ],
   "source": [
    "lstm_model = bus_prediction.LSTMModule(input_size=X_train.shape[1]-1, hidden_size=64, num_layers=4, dropout=0.1)\n",
    "lstm_predictor = bus_prediction.LSTMPredictor(lstm_model, lag_offsets=[1, 2, 3, 3*24])\n",
    "lstm_predictor.train(X_train, y_train, epochs=30, learning_rate=0.001)\n",
    "mse = lstm_predictor.evaluate(X_test, y_test)\n",
    "print(f\"LSTM Test MSE: {mse:.4f}\")"
   ]
  },
  {
   "cell_type": "markdown",
   "id": "65101205",
   "metadata": {},
   "source": [
    "### Day-ahead prediction"
   ]
  },
  {
   "cell_type": "code",
   "execution_count": 9,
   "id": "8ef0278d",
   "metadata": {},
   "outputs": [
    {
     "name": "stdout",
     "output_type": "stream",
     "text": [
      "Epoch 1/30, Train Loss: 1.4978, Val Loss: 0.9029\n",
      "Epoch 2/30, Train Loss: 1.3759, Val Loss: 0.8536\n",
      "Epoch 3/30, Train Loss: 1.3883, Val Loss: 0.9450\n",
      "Epoch 4/30, Train Loss: 1.4460, Val Loss: 0.9284\n",
      "Epoch 5/30, Train Loss: 1.3753, Val Loss: 0.8359\n",
      "Epoch 6/30, Train Loss: 1.3807, Val Loss: 0.9443\n",
      "Epoch 7/30, Train Loss: 1.4470, Val Loss: 0.9395\n",
      "Epoch 8/30, Train Loss: 1.3649, Val Loss: 0.8144\n",
      "Epoch 9/30, Train Loss: 1.3253, Val Loss: 0.6970\n",
      "Epoch 10/30, Train Loss: 1.3091, Val Loss: 0.7834\n",
      "Epoch 11/30, Train Loss: 1.2760, Val Loss: 0.6293\n",
      "Epoch 12/30, Train Loss: 1.2618, Val Loss: 0.6073\n",
      "Epoch 13/30, Train Loss: 1.2579, Val Loss: 0.6186\n",
      "Epoch 14/30, Train Loss: 1.2531, Val Loss: 0.6011\n",
      "Epoch 15/30, Train Loss: 1.2458, Val Loss: 0.6145\n",
      "Epoch 16/30, Train Loss: 1.2237, Val Loss: 0.5992\n",
      "Epoch 17/30, Train Loss: 1.2093, Val Loss: 0.5896\n",
      "Epoch 18/30, Train Loss: 1.1907, Val Loss: 0.5948\n",
      "Epoch 19/30, Train Loss: 1.1900, Val Loss: 0.5836\n",
      "Epoch 20/30, Train Loss: 1.1755, Val Loss: 0.5755\n",
      "Epoch 21/30, Train Loss: 1.1744, Val Loss: 0.5648\n",
      "Epoch 22/30, Train Loss: 1.1719, Val Loss: 0.5638\n",
      "Epoch 23/30, Train Loss: 1.1621, Val Loss: 0.5524\n",
      "Epoch 24/30, Train Loss: 1.1552, Val Loss: 0.5538\n",
      "Epoch 25/30, Train Loss: 1.1523, Val Loss: 0.5697\n",
      "Epoch 26/30, Train Loss: 1.1453, Val Loss: 0.5476\n",
      "Epoch 27/30, Train Loss: 1.1351, Val Loss: 0.5572\n",
      "Epoch 28/30, Train Loss: 1.1273, Val Loss: 0.5629\n",
      "Epoch 29/30, Train Loss: 1.1229, Val Loss: 0.5472\n",
      "Epoch 30/30, Train Loss: 1.1123, Val Loss: 0.6384\n",
      "Shape of y_pred: (2058,)\n",
      "Shape of test_y: (2058,)\n",
      "LSTM Test MSE: 0.7695\n"
     ]
    }
   ],
   "source": [
    "lstm_model = bus_prediction.LSTMModule(input_size=X_train.shape[1]-1, hidden_size=64, num_layers=4, dropout=0.1)\n",
    "lstm_predictor = bus_prediction.LSTMPredictor(lstm_model, lag_offsets=[3*24, 3*24+1, 3*24+2, 3*48])\n",
    "lstm_predictor.train(X_train, y_train, epochs=30, learning_rate=0.001)\n",
    "mse = lstm_predictor.evaluate(X_test, y_test)\n",
    "print(f\"LSTM Test MSE: {mse:.4f}\")"
   ]
  },
  {
   "cell_type": "markdown",
   "id": "8710c10a",
   "metadata": {},
   "source": [
    "## XGBoost"
   ]
  },
  {
   "cell_type": "markdown",
   "id": "fefb7c10",
   "metadata": {},
   "source": [
    "### Next-period prediction"
   ]
  },
  {
   "cell_type": "code",
   "execution_count": null,
   "id": "9186db1e",
   "metadata": {},
   "outputs": [
    {
     "name": "stdout",
     "output_type": "stream",
     "text": [
      "Validation MSE: 0.1947\n",
      "Shape of y_pred: (2130,)\n",
      "Shape of test_y: (2130,)\n",
      "XGBoost Test MSE: 0.3340\n"
     ]
    }
   ],
   "source": [
    "xgboost_predictor = bus_prediction.XGBoostPredictor(lagged_features=[\"avg_delay\"], lag_offsets=[1, 2, 3, 24*3], avg_features=[\"avg_delay\"], avg_ranges=[24*3, 48*3, 72*3])\n",
    "xgboost_predictor.train(X_train, y_train)\n",
    "xgboost_mse = xgboost_predictor.evaluate(X_test, y_test)\n",
    "print(f\"XGBoost Test MSE: {xgboost_mse:.4f}\")"
   ]
  },
  {
   "cell_type": "markdown",
   "id": "501b1853",
   "metadata": {},
   "source": [
    "### Day-ahead prediction"
   ]
  },
  {
   "cell_type": "code",
   "execution_count": 10,
   "id": "e1bb516f",
   "metadata": {},
   "outputs": [
    {
     "name": "stdout",
     "output_type": "stream",
     "text": [
      "Validation MSE: 0.6128\n",
      "Shape of y_pred: (2058,)\n",
      "Shape of test_y: (2058,)\n",
      "XGBoost Test MSE: 0.6390\n"
     ]
    }
   ],
   "source": [
    "xgboost_predictor = bus_prediction.XGBoostPredictor(lagged_features=[\"avg_delay\"], lag_offsets=[24*3, 24*3+1, 24*3+2, 48*3])\n",
    "xgboost_predictor.train(X_train, y_train)\n",
    "xgboost_mse = xgboost_predictor.evaluate(X_test, y_test)\n",
    "print(f\"XGBoost Test MSE: {xgboost_mse:.4f}\")"
   ]
  },
  {
   "cell_type": "markdown",
   "id": "3c95c341",
   "metadata": {},
   "source": [
    "## TFT"
   ]
  },
  {
   "cell_type": "code",
   "execution_count": 3,
   "id": "44ab44fe",
   "metadata": {},
   "outputs": [
    {
     "name": "stderr",
     "output_type": "stream",
     "text": [
      "/Users/legendword/python3/lib/python3.12/site-packages/pytorch_forecasting/data/encoders.py:400: UserWarning: Found 1 unknown classes which were set to NaN\n",
      "  warnings.warn(\n",
      "/Users/legendword/python3/lib/python3.12/site-packages/lightning/pytorch/utilities/parsing.py:209: Attribute 'loss' is an instance of `nn.Module` and is already saved during checkpointing. It is recommended to ignore them using `self.save_hyperparameters(ignore=['loss'])`.\n",
      "/Users/legendword/python3/lib/python3.12/site-packages/lightning/pytorch/utilities/parsing.py:209: Attribute 'logging_metrics' is an instance of `nn.Module` and is already saved during checkpointing. It is recommended to ignore them using `self.save_hyperparameters(ignore=['logging_metrics'])`.\n",
      "GPU available: True (mps), used: True\n",
      "TPU available: False, using: 0 TPU cores\n",
      "HPU available: False, using: 0 HPUs\n",
      "/Users/legendword/python3/lib/python3.12/site-packages/lightning/pytorch/trainer/connectors/logger_connector/logger_connector.py:76: Starting from v1.9.0, `tensorboardX` has been removed as a dependency of the `lightning.pytorch` package, due to potential conflicts with other packages in the ML ecosystem. For this reason, `logger=True` will use `CSVLogger` as the default logger, unless the `tensorboard` or `tensorboardX` packages are found. Please `pip install lightning[extra]` or one of them to enable TensorBoard support by default\n",
      "\n",
      "   | Name                               | Type                            | Params | Mode \n",
      "------------------------------------------------------------------------------------------------\n",
      "0  | loss                               | RMSE                            | 0      | train\n",
      "1  | logging_metrics                    | ModuleList                      | 0      | train\n",
      "2  | input_embeddings                   | MultiEmbedding                  | 703    | train\n",
      "3  | prescalers                         | ModuleDict                      | 176    | train\n",
      "4  | static_variable_selection          | VariableSelectionNetwork        | 1.6 K  | train\n",
      "5  | encoder_variable_selection         | VariableSelectionNetwork        | 21.3 K | train\n",
      "6  | decoder_variable_selection         | VariableSelectionNetwork        | 19.2 K | train\n",
      "7  | static_context_variable_selection  | GatedResidualNetwork            | 16.8 K | train\n",
      "8  | static_context_initial_hidden_lstm | GatedResidualNetwork            | 16.8 K | train\n",
      "9  | static_context_initial_cell_lstm   | GatedResidualNetwork            | 16.8 K | train\n",
      "10 | static_context_enrichment          | GatedResidualNetwork            | 16.8 K | train\n",
      "11 | lstm_encoder                       | LSTM                            | 33.3 K | train\n",
      "12 | lstm_decoder                       | LSTM                            | 33.3 K | train\n",
      "13 | post_lstm_gate_encoder             | GatedLinearUnit                 | 8.3 K  | train\n",
      "14 | post_lstm_add_norm_encoder         | AddNorm                         | 128    | train\n",
      "15 | static_enrichment                  | GatedResidualNetwork            | 20.9 K | train\n",
      "16 | multihead_attn                     | InterpretableMultiHeadAttention | 10.4 K | train\n",
      "17 | post_attn_gate_norm                | GateAddNorm                     | 8.4 K  | train\n",
      "18 | pos_wise_ff                        | GatedResidualNetwork            | 16.8 K | train\n",
      "19 | pre_output_gate_norm               | GateAddNorm                     | 8.4 K  | train\n",
      "20 | output_layer                       | Linear                          | 65     | train\n",
      "------------------------------------------------------------------------------------------------\n",
      "249 K     Trainable params\n",
      "0         Non-trainable params\n",
      "249 K     Total params\n",
      "0.999     Total estimated model params size (MB)\n",
      "492       Modules in train mode\n",
      "0         Modules in eval mode\n"
     ]
    },
    {
     "data": {
      "application/vnd.jupyter.widget-view+json": {
       "model_id": "7e93077fceef4f22a3f4b35c37a3034e",
       "version_major": 2,
       "version_minor": 0
      },
      "text/plain": [
       "Sanity Checking: |          | 0/? [00:00<?, ?it/s]"
      ]
     },
     "metadata": {},
     "output_type": "display_data"
    },
    {
     "name": "stderr",
     "output_type": "stream",
     "text": [
      "/Users/legendword/python3/lib/python3.12/site-packages/lightning/pytorch/trainer/connectors/data_connector.py:425: The 'val_dataloader' does not have many workers which may be a bottleneck. Consider increasing the value of the `num_workers` argument` to `num_workers=11` in the `DataLoader` to improve performance.\n",
      "/Users/legendword/python3/lib/python3.12/site-packages/lightning/pytorch/trainer/connectors/data_connector.py:425: The 'train_dataloader' does not have many workers which may be a bottleneck. Consider increasing the value of the `num_workers` argument` to `num_workers=11` in the `DataLoader` to improve performance.\n"
     ]
    },
    {
     "data": {
      "application/vnd.jupyter.widget-view+json": {
       "model_id": "1f07869f11ba44b89985b0f2a20e2bf3",
       "version_major": 2,
       "version_minor": 0
      },
      "text/plain": [
       "Training: |          | 0/? [00:00<?, ?it/s]"
      ]
     },
     "metadata": {},
     "output_type": "display_data"
    },
    {
     "data": {
      "application/vnd.jupyter.widget-view+json": {
       "model_id": "69d7b5457acb4ee2b76e088484edb3da",
       "version_major": 2,
       "version_minor": 0
      },
      "text/plain": [
       "Validation: |          | 0/? [00:00<?, ?it/s]"
      ]
     },
     "metadata": {},
     "output_type": "display_data"
    },
    {
     "data": {
      "application/vnd.jupyter.widget-view+json": {
       "model_id": "150ba1771a9a4fddb3d30640d1f45176",
       "version_major": 2,
       "version_minor": 0
      },
      "text/plain": [
       "Validation: |          | 0/? [00:00<?, ?it/s]"
      ]
     },
     "metadata": {},
     "output_type": "display_data"
    },
    {
     "data": {
      "application/vnd.jupyter.widget-view+json": {
       "model_id": "4f0c020c9df24e29b294fa2c099e37a6",
       "version_major": 2,
       "version_minor": 0
      },
      "text/plain": [
       "Validation: |          | 0/? [00:00<?, ?it/s]"
      ]
     },
     "metadata": {},
     "output_type": "display_data"
    },
    {
     "data": {
      "application/vnd.jupyter.widget-view+json": {
       "model_id": "e8f3506d2591465287abe3851fca60a7",
       "version_major": 2,
       "version_minor": 0
      },
      "text/plain": [
       "Validation: |          | 0/? [00:00<?, ?it/s]"
      ]
     },
     "metadata": {},
     "output_type": "display_data"
    },
    {
     "data": {
      "application/vnd.jupyter.widget-view+json": {
       "model_id": "2de9a07f108e4fe2a647fba710677208",
       "version_major": 2,
       "version_minor": 0
      },
      "text/plain": [
       "Validation: |          | 0/? [00:00<?, ?it/s]"
      ]
     },
     "metadata": {},
     "output_type": "display_data"
    },
    {
     "data": {
      "application/vnd.jupyter.widget-view+json": {
       "model_id": "47c81253aec64a588faf149ad631bfd6",
       "version_major": 2,
       "version_minor": 0
      },
      "text/plain": [
       "Validation: |          | 0/? [00:00<?, ?it/s]"
      ]
     },
     "metadata": {},
     "output_type": "display_data"
    },
    {
     "data": {
      "application/vnd.jupyter.widget-view+json": {
       "model_id": "4a91d8a7736d4f8b9cdaed33b8851ef6",
       "version_major": 2,
       "version_minor": 0
      },
      "text/plain": [
       "Validation: |          | 0/? [00:00<?, ?it/s]"
      ]
     },
     "metadata": {},
     "output_type": "display_data"
    },
    {
     "data": {
      "application/vnd.jupyter.widget-view+json": {
       "model_id": "d98da30046ea44648c1a429cc6ebe931",
       "version_major": 2,
       "version_minor": 0
      },
      "text/plain": [
       "Validation: |          | 0/? [00:00<?, ?it/s]"
      ]
     },
     "metadata": {},
     "output_type": "display_data"
    },
    {
     "data": {
      "application/vnd.jupyter.widget-view+json": {
       "model_id": "819b2da899744a01bbd9f57c69592b88",
       "version_major": 2,
       "version_minor": 0
      },
      "text/plain": [
       "Validation: |          | 0/? [00:00<?, ?it/s]"
      ]
     },
     "metadata": {},
     "output_type": "display_data"
    },
    {
     "data": {
      "application/vnd.jupyter.widget-view+json": {
       "model_id": "ade1ee499e6243dda73e2ddff9bcac98",
       "version_major": 2,
       "version_minor": 0
      },
      "text/plain": [
       "Validation: |          | 0/? [00:00<?, ?it/s]"
      ]
     },
     "metadata": {},
     "output_type": "display_data"
    },
    {
     "name": "stderr",
     "output_type": "stream",
     "text": [
      "`Trainer.fit` stopped: `max_epochs=10` reached.\n"
     ]
    }
   ],
   "source": [
    "tft_predictor = bus_prediction.TFTPredictor()\n",
    "tft_predictor.train(X_train, y_train)"
   ]
  },
  {
   "cell_type": "code",
   "execution_count": null,
   "id": "447288bb",
   "metadata": {},
   "outputs": [
    {
     "name": "stderr",
     "output_type": "stream",
     "text": [
      "Restoring states from the checkpoint path at /Users/legendword/Documents/zwh/Coding/CPSC440/cpsc440-transit-project/src/lightning_logs/version_80/checkpoints/epoch=1-step=344.ckpt\n",
      "Loaded model weights from the checkpoint at /Users/legendword/Documents/zwh/Coding/CPSC440/cpsc440-transit-project/src/lightning_logs/version_80/checkpoints/epoch=1-step=344.ckpt\n",
      "/Users/legendword/python3/lib/python3.12/site-packages/lightning/pytorch/trainer/connectors/data_connector.py:425: The 'test_dataloader' does not have many workers which may be a bottleneck. Consider increasing the value of the `num_workers` argument` to `num_workers=11` in the `DataLoader` to improve performance.\n"
     ]
    },
    {
     "data": {
      "application/vnd.jupyter.widget-view+json": {
       "model_id": "235f8e1085e34bd59be60a0762aec320",
       "version_major": 2,
       "version_minor": 0
      },
      "text/plain": [
       "Testing: |          | 0/? [00:00<?, ?it/s]"
      ]
     },
     "metadata": {},
     "output_type": "display_data"
    },
    {
     "data": {
      "text/html": [
       "<pre style=\"white-space:pre;overflow-x:auto;line-height:normal;font-family:Menlo,'DejaVu Sans Mono',consolas,'Courier New',monospace\">┏━━━━━━━━━━━━━━━━━━━━━━━━━━━┳━━━━━━━━━━━━━━━━━━━━━━━━━━━┓\n",
       "┃<span style=\"font-weight: bold\">        Test metric        </span>┃<span style=\"font-weight: bold\">       DataLoader 0        </span>┃\n",
       "┡━━━━━━━━━━━━━━━━━━━━━━━━━━━╇━━━━━━━━━━━━━━━━━━━━━━━━━━━┩\n",
       "│<span style=\"color: #008080; text-decoration-color: #008080\">         test_MAE          </span>│<span style=\"color: #800080; text-decoration-color: #800080\">    0.15751099586486816    </span>│\n",
       "│<span style=\"color: #008080; text-decoration-color: #008080\">         test_MAPE         </span>│<span style=\"color: #800080; text-decoration-color: #800080\">    0.1002342700958252     </span>│\n",
       "│<span style=\"color: #008080; text-decoration-color: #008080\">         test_RMSE         </span>│<span style=\"color: #800080; text-decoration-color: #800080\">    0.15751099586486816    </span>│\n",
       "│<span style=\"color: #008080; text-decoration-color: #008080\">        test_SMAPE         </span>│<span style=\"color: #800080; text-decoration-color: #800080\">    0.1055227741599083     </span>│\n",
       "│<span style=\"color: #008080; text-decoration-color: #008080\">         test_loss         </span>│<span style=\"color: #800080; text-decoration-color: #800080\">    0.15751099586486816    </span>│\n",
       "└───────────────────────────┴───────────────────────────┘\n",
       "</pre>\n"
      ],
      "text/plain": [
       "┏━━━━━━━━━━━━━━━━━━━━━━━━━━━┳━━━━━━━━━━━━━━━━━━━━━━━━━━━┓\n",
       "┃\u001b[1m \u001b[0m\u001b[1m       Test metric       \u001b[0m\u001b[1m \u001b[0m┃\u001b[1m \u001b[0m\u001b[1m      DataLoader 0       \u001b[0m\u001b[1m \u001b[0m┃\n",
       "┡━━━━━━━━━━━━━━━━━━━━━━━━━━━╇━━━━━━━━━━━━━━━━━━━━━━━━━━━┩\n",
       "│\u001b[36m \u001b[0m\u001b[36m        test_MAE         \u001b[0m\u001b[36m \u001b[0m│\u001b[35m \u001b[0m\u001b[35m   0.15751099586486816   \u001b[0m\u001b[35m \u001b[0m│\n",
       "│\u001b[36m \u001b[0m\u001b[36m        test_MAPE        \u001b[0m\u001b[36m \u001b[0m│\u001b[35m \u001b[0m\u001b[35m   0.1002342700958252    \u001b[0m\u001b[35m \u001b[0m│\n",
       "│\u001b[36m \u001b[0m\u001b[36m        test_RMSE        \u001b[0m\u001b[36m \u001b[0m│\u001b[35m \u001b[0m\u001b[35m   0.15751099586486816   \u001b[0m\u001b[35m \u001b[0m│\n",
       "│\u001b[36m \u001b[0m\u001b[36m       test_SMAPE        \u001b[0m\u001b[36m \u001b[0m│\u001b[35m \u001b[0m\u001b[35m   0.1055227741599083    \u001b[0m\u001b[35m \u001b[0m│\n",
       "│\u001b[36m \u001b[0m\u001b[36m        test_loss        \u001b[0m\u001b[36m \u001b[0m│\u001b[35m \u001b[0m\u001b[35m   0.15751099586486816   \u001b[0m\u001b[35m \u001b[0m│\n",
       "└───────────────────────────┴───────────────────────────┘\n"
      ]
     },
     "metadata": {},
     "output_type": "display_data"
    }
   ],
   "source": [
    "tft_predictor.evaluate(X_test, y_test)"
   ]
  }
 ],
 "metadata": {
  "kernelspec": {
   "display_name": "python3",
   "language": "python",
   "name": "python3"
  },
  "language_info": {
   "codemirror_mode": {
    "name": "ipython",
    "version": 3
   },
   "file_extension": ".py",
   "mimetype": "text/x-python",
   "name": "python",
   "nbconvert_exporter": "python",
   "pygments_lexer": "ipython3",
   "version": "3.12.6"
  }
 },
 "nbformat": 4,
 "nbformat_minor": 5
}
