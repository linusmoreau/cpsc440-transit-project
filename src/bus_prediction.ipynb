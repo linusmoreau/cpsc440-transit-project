{
 "cells": [
  {
   "cell_type": "code",
   "execution_count": 1,
   "id": "c078c9e8",
   "metadata": {},
   "outputs": [
    {
     "name": "stderr",
     "output_type": "stream",
     "text": [
      "/Users/legendword/python3/lib/python3.12/site-packages/transformers/utils/generic.py:441: FutureWarning: `torch.utils._pytree._register_pytree_node` is deprecated. Please use `torch.utils._pytree.register_pytree_node` instead.\n",
      "  _torch_pytree._register_pytree_node(\n"
     ]
    }
   ],
   "source": [
    "# import bus_processing\n",
    "import bus_prediction\n",
    "import os\n",
    "import pandas as pd\n",
    "from constants import DATA_DIR"
   ]
  },
  {
   "cell_type": "code",
   "execution_count": 2,
   "id": "1065d206",
   "metadata": {},
   "outputs": [],
   "source": [
    "def load_bus_data():\n",
    "    path = os.path.join(DATA_DIR, \"dataset.csv\")\n",
    "    df = pd.read_csv(path)\n",
    "    return df\n",
    "\n",
    "bus_data = load_bus_data()\n",
    "bus_data[\"time_bucket\"] = pd.to_datetime(bus_data[\"time_bucket\"], utc=True)\n",
    "X_train, y_train, X_test, y_test = bus_prediction.prepare_bus_data(bus_data)"
   ]
  },
  {
   "cell_type": "code",
   "execution_count": 3,
   "id": "44ab44fe",
   "metadata": {},
   "outputs": [
    {
     "name": "stderr",
     "output_type": "stream",
     "text": [
      "/Users/legendword/python3/lib/python3.12/site-packages/pytorch_forecasting/data/encoders.py:400: UserWarning: Found 1 unknown classes which were set to NaN\n",
      "  warnings.warn(\n",
      "/Users/legendword/python3/lib/python3.12/site-packages/lightning/pytorch/utilities/parsing.py:209: Attribute 'loss' is an instance of `nn.Module` and is already saved during checkpointing. It is recommended to ignore them using `self.save_hyperparameters(ignore=['loss'])`.\n",
      "/Users/legendword/python3/lib/python3.12/site-packages/lightning/pytorch/utilities/parsing.py:209: Attribute 'logging_metrics' is an instance of `nn.Module` and is already saved during checkpointing. It is recommended to ignore them using `self.save_hyperparameters(ignore=['logging_metrics'])`.\n",
      "GPU available: True (mps), used: True\n",
      "TPU available: False, using: 0 TPU cores\n",
      "HPU available: False, using: 0 HPUs\n",
      "/Users/legendword/python3/lib/python3.12/site-packages/lightning/pytorch/trainer/connectors/logger_connector/logger_connector.py:76: Starting from v1.9.0, `tensorboardX` has been removed as a dependency of the `lightning.pytorch` package, due to potential conflicts with other packages in the ML ecosystem. For this reason, `logger=True` will use `CSVLogger` as the default logger, unless the `tensorboard` or `tensorboardX` packages are found. Please `pip install lightning[extra]` or one of them to enable TensorBoard support by default\n",
      "\n",
      "   | Name                               | Type                            | Params | Mode \n",
      "------------------------------------------------------------------------------------------------\n",
      "0  | loss                               | RMSE                            | 0      | train\n",
      "1  | logging_metrics                    | ModuleList                      | 0      | train\n",
      "2  | input_embeddings                   | MultiEmbedding                  | 726    | train\n",
      "3  | prescalers                         | ModuleDict                      | 176    | train\n",
      "4  | static_variable_selection          | VariableSelectionNetwork        | 1.6 K  | train\n",
      "5  | encoder_variable_selection         | VariableSelectionNetwork        | 24.6 K | train\n",
      "6  | decoder_variable_selection         | VariableSelectionNetwork        | 22.5 K | train\n",
      "7  | static_context_variable_selection  | GatedResidualNetwork            | 16.8 K | train\n",
      "8  | static_context_initial_hidden_lstm | GatedResidualNetwork            | 16.8 K | train\n",
      "9  | static_context_initial_cell_lstm   | GatedResidualNetwork            | 16.8 K | train\n",
      "10 | static_context_enrichment          | GatedResidualNetwork            | 16.8 K | train\n",
      "11 | lstm_encoder                       | LSTM                            | 33.3 K | train\n",
      "12 | lstm_decoder                       | LSTM                            | 33.3 K | train\n",
      "13 | post_lstm_gate_encoder             | GatedLinearUnit                 | 8.3 K  | train\n",
      "14 | post_lstm_add_norm_encoder         | AddNorm                         | 128    | train\n",
      "15 | static_enrichment                  | GatedResidualNetwork            | 20.9 K | train\n",
      "16 | multihead_attn                     | InterpretableMultiHeadAttention | 10.4 K | train\n",
      "17 | post_attn_gate_norm                | GateAddNorm                     | 8.4 K  | train\n",
      "18 | pos_wise_ff                        | GatedResidualNetwork            | 16.8 K | train\n",
      "19 | pre_output_gate_norm               | GateAddNorm                     | 8.4 K  | train\n",
      "20 | output_layer                       | Linear                          | 65     | train\n",
      "------------------------------------------------------------------------------------------------\n",
      "256 K     Trainable params\n",
      "0         Non-trainable params\n",
      "256 K     Total params\n",
      "1.025     Total estimated model params size (MB)\n",
      "546       Modules in train mode\n",
      "0         Modules in eval mode\n"
     ]
    },
    {
     "data": {
      "application/vnd.jupyter.widget-view+json": {
       "model_id": "8d436b174f4547758600cfd138412f58",
       "version_major": 2,
       "version_minor": 0
      },
      "text/plain": [
       "Sanity Checking: |          | 0/? [00:00<?, ?it/s]"
      ]
     },
     "metadata": {},
     "output_type": "display_data"
    },
    {
     "name": "stderr",
     "output_type": "stream",
     "text": [
      "/Users/legendword/python3/lib/python3.12/site-packages/lightning/pytorch/trainer/connectors/data_connector.py:425: The 'val_dataloader' does not have many workers which may be a bottleneck. Consider increasing the value of the `num_workers` argument` to `num_workers=11` in the `DataLoader` to improve performance.\n",
      "/Users/legendword/python3/lib/python3.12/site-packages/lightning/pytorch/trainer/connectors/data_connector.py:425: The 'train_dataloader' does not have many workers which may be a bottleneck. Consider increasing the value of the `num_workers` argument` to `num_workers=11` in the `DataLoader` to improve performance.\n"
     ]
    },
    {
     "data": {
      "application/vnd.jupyter.widget-view+json": {
       "model_id": "2deabdf7593149ab915f471ba1305cbd",
       "version_major": 2,
       "version_minor": 0
      },
      "text/plain": [
       "Training: |          | 0/? [00:00<?, ?it/s]"
      ]
     },
     "metadata": {},
     "output_type": "display_data"
    },
    {
     "data": {
      "application/vnd.jupyter.widget-view+json": {
       "model_id": "2133a2935fcc4692a295b07eebd2df52",
       "version_major": 2,
       "version_minor": 0
      },
      "text/plain": [
       "Validation: |          | 0/? [00:00<?, ?it/s]"
      ]
     },
     "metadata": {},
     "output_type": "display_data"
    },
    {
     "data": {
      "application/vnd.jupyter.widget-view+json": {
       "model_id": "77e5a19da47441cdab1f89b00b8d905a",
       "version_major": 2,
       "version_minor": 0
      },
      "text/plain": [
       "Validation: |          | 0/? [00:00<?, ?it/s]"
      ]
     },
     "metadata": {},
     "output_type": "display_data"
    },
    {
     "data": {
      "application/vnd.jupyter.widget-view+json": {
       "model_id": "ab30820ac95d484ea0a2396a0971d5f3",
       "version_major": 2,
       "version_minor": 0
      },
      "text/plain": [
       "Validation: |          | 0/? [00:00<?, ?it/s]"
      ]
     },
     "metadata": {},
     "output_type": "display_data"
    },
    {
     "data": {
      "application/vnd.jupyter.widget-view+json": {
       "model_id": "dff481ef1ce64fbca84d0b0a0540b2c2",
       "version_major": 2,
       "version_minor": 0
      },
      "text/plain": [
       "Validation: |          | 0/? [00:00<?, ?it/s]"
      ]
     },
     "metadata": {},
     "output_type": "display_data"
    },
    {
     "data": {
      "application/vnd.jupyter.widget-view+json": {
       "model_id": "2f2aa465189944e9bb77861c23cc8a57",
       "version_major": 2,
       "version_minor": 0
      },
      "text/plain": [
       "Validation: |          | 0/? [00:00<?, ?it/s]"
      ]
     },
     "metadata": {},
     "output_type": "display_data"
    },
    {
     "data": {
      "application/vnd.jupyter.widget-view+json": {
       "model_id": "7e10a31bd2764b1386a682796c7427b0",
       "version_major": 2,
       "version_minor": 0
      },
      "text/plain": [
       "Validation: |          | 0/? [00:00<?, ?it/s]"
      ]
     },
     "metadata": {},
     "output_type": "display_data"
    },
    {
     "data": {
      "application/vnd.jupyter.widget-view+json": {
       "model_id": "3e4ab186af674a43851407696ca494ea",
       "version_major": 2,
       "version_minor": 0
      },
      "text/plain": [
       "Validation: |          | 0/? [00:00<?, ?it/s]"
      ]
     },
     "metadata": {},
     "output_type": "display_data"
    },
    {
     "data": {
      "application/vnd.jupyter.widget-view+json": {
       "model_id": "4a022b16034d4ea7be7e31baac43caa7",
       "version_major": 2,
       "version_minor": 0
      },
      "text/plain": [
       "Validation: |          | 0/? [00:00<?, ?it/s]"
      ]
     },
     "metadata": {},
     "output_type": "display_data"
    },
    {
     "data": {
      "application/vnd.jupyter.widget-view+json": {
       "model_id": "59033f1c13b449ca8cd3e28c65b7bde4",
       "version_major": 2,
       "version_minor": 0
      },
      "text/plain": [
       "Validation: |          | 0/? [00:00<?, ?it/s]"
      ]
     },
     "metadata": {},
     "output_type": "display_data"
    },
    {
     "data": {
      "application/vnd.jupyter.widget-view+json": {
       "model_id": "56f33637683a4615955ec6a989887358",
       "version_major": 2,
       "version_minor": 0
      },
      "text/plain": [
       "Validation: |          | 0/? [00:00<?, ?it/s]"
      ]
     },
     "metadata": {},
     "output_type": "display_data"
    },
    {
     "name": "stderr",
     "output_type": "stream",
     "text": [
      "`Trainer.fit` stopped: `max_epochs=10` reached.\n"
     ]
    }
   ],
   "source": [
    "tft_predictor = bus_prediction.TFTPredictor()\n",
    "tft_predictor.train(X_train, y_train)"
   ]
  },
  {
   "cell_type": "code",
   "execution_count": 5,
   "id": "447288bb",
   "metadata": {},
   "outputs": [
    {
     "name": "stderr",
     "output_type": "stream",
     "text": [
      "Restoring states from the checkpoint path at /Users/legendword/Documents/zwh/Coding/CPSC440/cpsc440-transit-project/src/lightning_logs/version_80/checkpoints/epoch=1-step=344.ckpt\n",
      "Loaded model weights from the checkpoint at /Users/legendword/Documents/zwh/Coding/CPSC440/cpsc440-transit-project/src/lightning_logs/version_80/checkpoints/epoch=1-step=344.ckpt\n",
      "/Users/legendword/python3/lib/python3.12/site-packages/lightning/pytorch/trainer/connectors/data_connector.py:425: The 'test_dataloader' does not have many workers which may be a bottleneck. Consider increasing the value of the `num_workers` argument` to `num_workers=11` in the `DataLoader` to improve performance.\n"
     ]
    },
    {
     "data": {
      "application/vnd.jupyter.widget-view+json": {
       "model_id": "235f8e1085e34bd59be60a0762aec320",
       "version_major": 2,
       "version_minor": 0
      },
      "text/plain": [
       "Testing: |          | 0/? [00:00<?, ?it/s]"
      ]
     },
     "metadata": {},
     "output_type": "display_data"
    },
    {
     "data": {
      "text/html": [
       "<pre style=\"white-space:pre;overflow-x:auto;line-height:normal;font-family:Menlo,'DejaVu Sans Mono',consolas,'Courier New',monospace\">┏━━━━━━━━━━━━━━━━━━━━━━━━━━━┳━━━━━━━━━━━━━━━━━━━━━━━━━━━┓\n",
       "┃<span style=\"font-weight: bold\">        Test metric        </span>┃<span style=\"font-weight: bold\">       DataLoader 0        </span>┃\n",
       "┡━━━━━━━━━━━━━━━━━━━━━━━━━━━╇━━━━━━━━━━━━━━━━━━━━━━━━━━━┩\n",
       "│<span style=\"color: #008080; text-decoration-color: #008080\">         test_MAE          </span>│<span style=\"color: #800080; text-decoration-color: #800080\">    0.15751099586486816    </span>│\n",
       "│<span style=\"color: #008080; text-decoration-color: #008080\">         test_MAPE         </span>│<span style=\"color: #800080; text-decoration-color: #800080\">    0.1002342700958252     </span>│\n",
       "│<span style=\"color: #008080; text-decoration-color: #008080\">         test_RMSE         </span>│<span style=\"color: #800080; text-decoration-color: #800080\">    0.15751099586486816    </span>│\n",
       "│<span style=\"color: #008080; text-decoration-color: #008080\">        test_SMAPE         </span>│<span style=\"color: #800080; text-decoration-color: #800080\">    0.1055227741599083     </span>│\n",
       "│<span style=\"color: #008080; text-decoration-color: #008080\">         test_loss         </span>│<span style=\"color: #800080; text-decoration-color: #800080\">    0.15751099586486816    </span>│\n",
       "└───────────────────────────┴───────────────────────────┘\n",
       "</pre>\n"
      ],
      "text/plain": [
       "┏━━━━━━━━━━━━━━━━━━━━━━━━━━━┳━━━━━━━━━━━━━━━━━━━━━━━━━━━┓\n",
       "┃\u001b[1m \u001b[0m\u001b[1m       Test metric       \u001b[0m\u001b[1m \u001b[0m┃\u001b[1m \u001b[0m\u001b[1m      DataLoader 0       \u001b[0m\u001b[1m \u001b[0m┃\n",
       "┡━━━━━━━━━━━━━━━━━━━━━━━━━━━╇━━━━━━━━━━━━━━━━━━━━━━━━━━━┩\n",
       "│\u001b[36m \u001b[0m\u001b[36m        test_MAE         \u001b[0m\u001b[36m \u001b[0m│\u001b[35m \u001b[0m\u001b[35m   0.15751099586486816   \u001b[0m\u001b[35m \u001b[0m│\n",
       "│\u001b[36m \u001b[0m\u001b[36m        test_MAPE        \u001b[0m\u001b[36m \u001b[0m│\u001b[35m \u001b[0m\u001b[35m   0.1002342700958252    \u001b[0m\u001b[35m \u001b[0m│\n",
       "│\u001b[36m \u001b[0m\u001b[36m        test_RMSE        \u001b[0m\u001b[36m \u001b[0m│\u001b[35m \u001b[0m\u001b[35m   0.15751099586486816   \u001b[0m\u001b[35m \u001b[0m│\n",
       "│\u001b[36m \u001b[0m\u001b[36m       test_SMAPE        \u001b[0m\u001b[36m \u001b[0m│\u001b[35m \u001b[0m\u001b[35m   0.1055227741599083    \u001b[0m\u001b[35m \u001b[0m│\n",
       "│\u001b[36m \u001b[0m\u001b[36m        test_loss        \u001b[0m\u001b[36m \u001b[0m│\u001b[35m \u001b[0m\u001b[35m   0.15751099586486816   \u001b[0m\u001b[35m \u001b[0m│\n",
       "└───────────────────────────┴───────────────────────────┘\n"
      ]
     },
     "metadata": {},
     "output_type": "display_data"
    }
   ],
   "source": [
    "tft_predictor.evaluate(X_test, y_test)"
   ]
  },
  {
   "cell_type": "code",
   "execution_count": null,
   "id": "010ba113",
   "metadata": {},
   "outputs": [
    {
     "ename": "AttributeError",
     "evalue": "'TFTPredictor' object has no attribute 'scalar'",
     "output_type": "error",
     "traceback": [
      "\u001b[0;31m---------------------------------------------------------------------------\u001b[0m",
      "\u001b[0;31mAttributeError\u001b[0m                            Traceback (most recent call last)",
      "Cell \u001b[0;32mIn[4], line 24\u001b[0m\n\u001b[1;32m     21\u001b[0m     mse \u001b[38;5;241m=\u001b[39m np\u001b[38;5;241m.\u001b[39mmean((predictions \u001b[38;5;241m-\u001b[39m expected) \u001b[38;5;241m*\u001b[39m\u001b[38;5;241m*\u001b[39m \u001b[38;5;241m2\u001b[39m)\n\u001b[1;32m     22\u001b[0m     \u001b[38;5;28mprint\u001b[39m(\u001b[38;5;124mf\u001b[39m\u001b[38;5;124m\"\u001b[39m\u001b[38;5;124mTest MSE: \u001b[39m\u001b[38;5;132;01m{\u001b[39;00mmse\u001b[38;5;132;01m}\u001b[39;00m\u001b[38;5;124m\"\u001b[39m)\n\u001b[0;32m---> 24\u001b[0m \u001b[43mtest_tft\u001b[49m\u001b[43m(\u001b[49m\u001b[43m)\u001b[49m\n",
      "Cell \u001b[0;32mIn[4], line 4\u001b[0m, in \u001b[0;36mtest_tft\u001b[0;34m()\u001b[0m\n\u001b[1;32m      2\u001b[0m \u001b[38;5;28;01mdef\u001b[39;00m \u001b[38;5;21mtest_tft\u001b[39m():\n\u001b[1;32m      3\u001b[0m     transformed_X_test \u001b[38;5;241m=\u001b[39m X_test\u001b[38;5;241m.\u001b[39mcopy()\n\u001b[0;32m----> 4\u001b[0m     transformed_X_test[bus_prediction\u001b[38;5;241m.\u001b[39mnumerical_columns] \u001b[38;5;241m=\u001b[39m \u001b[43mtft_predictor\u001b[49m\u001b[38;5;241;43m.\u001b[39;49m\u001b[43mscalar\u001b[49m\u001b[38;5;241m.\u001b[39mtransform(transformed_X_test[bus_prediction\u001b[38;5;241m.\u001b[39mnumerical_columns])\n\u001b[1;32m      5\u001b[0m     transformed_test_data \u001b[38;5;241m=\u001b[39m pd\u001b[38;5;241m.\u001b[39mconcat([transformed_X_test, y_test], axis\u001b[38;5;241m=\u001b[39m\u001b[38;5;241m1\u001b[39m)\n\u001b[1;32m      6\u001b[0m     transformed_test_data[\u001b[38;5;124m\"\u001b[39m\u001b[38;5;124mbus_id\u001b[39m\u001b[38;5;124m\"\u001b[39m] \u001b[38;5;241m=\u001b[39m \u001b[38;5;241m0\u001b[39m\n",
      "\u001b[0;31mAttributeError\u001b[0m: 'TFTPredictor' object has no attribute 'scalar'"
     ]
    }
   ],
   "source": [
    "# import numpy as np\n",
    "# def test_tft():\n",
    "#     transformed_X_test = X_test.copy()\n",
    "#     transformed_X_test[bus_prediction.numerical_columns] = tft_predictor.scalar.transform(transformed_X_test[bus_prediction.numerical_columns])\n",
    "#     transformed_test_data = pd.concat([transformed_X_test, y_test], axis=1)\n",
    "#     transformed_test_data[\"bus_id\"] = 0\n",
    "#     transformed_test_data[\"time_idx\"] = np.arange(len(transformed_test_data))\n",
    "#     transformed_test_data = transformed_test_data.drop(columns=[\"time_bucket\"])\n",
    "#     transformed_test_data[bus_prediction.categorical_columns] = transformed_test_data[bus_prediction.categorical_columns].astype(str)\n",
    "#     encoder_len = 24\n",
    "#     predictions = []\n",
    "#     for i in range(encoder_len, len(transformed_test_data)):\n",
    "#         partial_data = transformed_test_data[i - encoder_len:i]\n",
    "#         output = tft_predictor.model.predict(partial_data, mode=\"prediction\")\n",
    "#         prediction = output[0][0]\n",
    "#         predictions.append(prediction)\n",
    "#         # print(f\"Predicted: {prediction}, Actual: {transformed_test_data.iloc[i]['avg_delay']}\")\n",
    "        \n",
    "#     predictions = np.array(predictions)\n",
    "#     expected = transformed_test_data.iloc[encoder_len:][\"avg_delay\"].values\n",
    "#     mse = np.mean((predictions - expected) ** 2)\n",
    "#     print(f\"Test MSE: {mse}\")\n",
    "\n",
    "# test_tft()"
   ]
  },
  {
   "cell_type": "code",
   "execution_count": null,
   "id": "8145ce04",
   "metadata": {},
   "outputs": [],
   "source": [
    "lstm_model = bus_prediction.LSTMModule(input_size=X_train.shape[1]-1, hidden_size=64, num_layers=5, dropout=0.1)\n",
    "lstm_predictor = bus_prediction.LSTMPredictor(lstm_model, window_size=10)"
   ]
  },
  {
   "cell_type": "code",
   "execution_count": null,
   "id": "df2c9064",
   "metadata": {},
   "outputs": [
    {
     "name": "stderr",
     "output_type": "stream",
     "text": [
      "/Users/legendword/Documents/zwh/Coding/CPSC440/cpsc440-transit-project/src/bus_prediction.py:55: UserWarning: Creating a tensor from a list of numpy.ndarrays is extremely slow. Please consider converting the list to a single numpy.ndarray with numpy.array() before converting to a tensor. (Triggered internally at /Users/runner/work/pytorch/pytorch/pytorch/torch/csrc/utils/tensor_new.cpp:281.)\n",
      "  self.X = torch.tensor(X_lagged, dtype=torch.float32)\n"
     ]
    },
    {
     "name": "stdout",
     "output_type": "stream",
     "text": [
      "Epoch 1/20, Train Loss: 1.2768, Val Loss: 0.4806\n",
      "Epoch 2/20, Train Loss: 0.9598, Val Loss: 0.4422\n",
      "Epoch 3/20, Train Loss: 0.8753, Val Loss: 0.4406\n",
      "Epoch 4/20, Train Loss: 0.8524, Val Loss: 0.6108\n",
      "Epoch 5/20, Train Loss: 0.8444, Val Loss: 0.5659\n",
      "Epoch 6/20, Train Loss: 0.8058, Val Loss: 0.5824\n",
      "Epoch 7/20, Train Loss: 0.7809, Val Loss: 0.6077\n",
      "Epoch 8/20, Train Loss: 0.7991, Val Loss: 0.5587\n",
      "Epoch 9/20, Train Loss: 0.7481, Val Loss: 0.6745\n",
      "Epoch 10/20, Train Loss: 0.7707, Val Loss: 0.5285\n",
      "Epoch 11/20, Train Loss: 0.7492, Val Loss: 0.5622\n",
      "Epoch 12/20, Train Loss: 0.7042, Val Loss: 0.6053\n",
      "Epoch 13/20, Train Loss: 0.7321, Val Loss: 0.6767\n",
      "Epoch 14/20, Train Loss: 0.7093, Val Loss: 0.5340\n",
      "Epoch 15/20, Train Loss: 0.7308, Val Loss: 0.7020\n",
      "Epoch 16/20, Train Loss: 0.6774, Val Loss: 0.6309\n",
      "Epoch 17/20, Train Loss: 0.6512, Val Loss: 0.7870\n",
      "Epoch 18/20, Train Loss: 0.6832, Val Loss: 0.8902\n",
      "Epoch 19/20, Train Loss: 0.6252, Val Loss: 0.4964\n",
      "Epoch 20/20, Train Loss: 0.6214, Val Loss: 0.4286\n"
     ]
    }
   ],
   "source": [
    "lstm_predictor.train(X_train, y_train, epochs=20)"
   ]
  },
  {
   "cell_type": "code",
   "execution_count": null,
   "id": "f495de73",
   "metadata": {},
   "outputs": [
    {
     "name": "stdout",
     "output_type": "stream",
     "text": [
      "Shape of y_pred: (2192,)\n",
      "Shape of test_y: (2192,)\n",
      "Test MSE: 1.0221\n"
     ]
    }
   ],
   "source": [
    "mse = lstm_predictor.evaluate(X_test, y_test)\n",
    "print(f\"Test MSE: {mse:.4f}\")"
   ]
  },
  {
   "cell_type": "code",
   "execution_count": null,
   "id": "eb354975",
   "metadata": {},
   "outputs": [
    {
     "name": "stdout",
     "output_type": "stream",
     "text": [
      "Validation MSE: 0.2797\n",
      "Shape of y_pred: (2202,)\n",
      "Shape of test_y: (2202,)\n",
      "XGBoost Test MSE: 0.2485\n"
     ]
    }
   ],
   "source": [
    "xgboost_predictor = bus_prediction.XGBoostPredictor()\n",
    "xgboost_predictor.train(X_train, y_train)\n",
    "xgboost_mse = xgboost_predictor.evaluate(X_test, y_test)\n",
    "print(f\"XGBoost Test MSE: {xgboost_mse:.4f}\")"
   ]
  }
 ],
 "metadata": {
  "kernelspec": {
   "display_name": "python3",
   "language": "python",
   "name": "python3"
  },
  "language_info": {
   "codemirror_mode": {
    "name": "ipython",
    "version": 3
   },
   "file_extension": ".py",
   "mimetype": "text/x-python",
   "name": "python",
   "nbconvert_exporter": "python",
   "pygments_lexer": "ipython3",
   "version": "3.12.6"
  }
 },
 "nbformat": 4,
 "nbformat_minor": 5
}
