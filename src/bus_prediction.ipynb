{
 "cells": [
  {
   "cell_type": "code",
   "execution_count": 1,
   "id": "c078c9e8",
   "metadata": {},
   "outputs": [],
   "source": [
    "# import bus_processing\n",
    "import bus_prediction\n",
    "import os\n",
    "import pandas as pd\n",
    "from constants import DATA_DIR"
   ]
  },
  {
   "cell_type": "code",
   "execution_count": 2,
   "id": "1065d206",
   "metadata": {},
   "outputs": [],
   "source": [
    "def load_bus_data():\n",
    "    path = os.path.join(DATA_DIR, \"dataset.csv\")\n",
    "    df = pd.read_csv(path)\n",
    "    return df\n",
    "\n",
    "bus_data = load_bus_data()\n",
    "bus_data[\"time_bucket\"] = pd.to_datetime(bus_data[\"time_bucket\"], utc=True)\n",
    "X_train, y_train, X_test, y_test = bus_prediction.prepare_bus_data(bus_data)"
   ]
  },
  {
   "cell_type": "code",
   "execution_count": 3,
   "id": "8145ce04",
   "metadata": {},
   "outputs": [],
   "source": [
    "lstm_model = bus_prediction.LSTMModule(input_size=X_train.shape[1], hidden_size=64, num_layers=5, dropout=0.1)\n",
    "lstm_predictor = bus_prediction.LSTMPredictor(lstm_model, window_size=10)"
   ]
  },
  {
   "cell_type": "code",
   "execution_count": 4,
   "id": "df2c9064",
   "metadata": {},
   "outputs": [
    {
     "name": "stderr",
     "output_type": "stream",
     "text": [
      "/Users/legendword/Documents/zwh/Coding/CPSC440/cpsc440-transit-project/src/bus_prediction.py:33: UserWarning: Creating a tensor from a list of numpy.ndarrays is extremely slow. Please consider converting the list to a single numpy.ndarray with numpy.array() before converting to a tensor. (Triggered internally at /Users/runner/work/pytorch/pytorch/pytorch/torch/csrc/utils/tensor_new.cpp:281.)\n",
      "  self.X = torch.tensor(X_lagged, dtype=torch.float32)\n"
     ]
    },
    {
     "name": "stdout",
     "output_type": "stream",
     "text": [
      "Epoch 1/20, Train Loss: 1.5525, Val Loss: 0.9382\n",
      "Epoch 2/20, Train Loss: 1.4630, Val Loss: 0.9361\n",
      "Epoch 3/20, Train Loss: 1.4425, Val Loss: 0.9214\n",
      "Epoch 4/20, Train Loss: 1.4374, Val Loss: 0.9739\n",
      "Epoch 5/20, Train Loss: 1.4280, Val Loss: 0.9061\n",
      "Epoch 6/20, Train Loss: 1.3419, Val Loss: 0.6854\n",
      "Epoch 7/20, Train Loss: 1.2687, Val Loss: 0.7564\n",
      "Epoch 8/20, Train Loss: 1.2263, Val Loss: 0.8895\n",
      "Epoch 9/20, Train Loss: 1.2565, Val Loss: 0.8082\n",
      "Epoch 10/20, Train Loss: 1.2202, Val Loss: 0.7821\n",
      "Epoch 11/20, Train Loss: 1.1493, Val Loss: 0.8252\n",
      "Epoch 12/20, Train Loss: 1.1171, Val Loss: 0.7651\n",
      "Epoch 13/20, Train Loss: 1.1002, Val Loss: 0.7200\n",
      "Epoch 14/20, Train Loss: 1.0370, Val Loss: 0.5758\n",
      "Epoch 15/20, Train Loss: 0.8922, Val Loss: 0.4854\n",
      "Epoch 16/20, Train Loss: 0.8272, Val Loss: 0.6562\n",
      "Epoch 17/20, Train Loss: 0.7443, Val Loss: 0.5994\n",
      "Epoch 18/20, Train Loss: 0.6803, Val Loss: 0.4755\n",
      "Epoch 19/20, Train Loss: 0.6597, Val Loss: 0.5347\n",
      "Epoch 20/20, Train Loss: 0.6150, Val Loss: 0.4041\n"
     ]
    }
   ],
   "source": [
    "lstm_predictor.train(X_train.values, y_train.values, epochs=20)"
   ]
  },
  {
   "cell_type": "code",
   "execution_count": 5,
   "id": "f495de73",
   "metadata": {},
   "outputs": [
    {
     "name": "stdout",
     "output_type": "stream",
     "text": [
      "Shape of X_lagged: (2192, 10, 23)\n",
      "Shape of y_pred: (2192,)\n",
      "Shape of test_y: (2192,)\n",
      "Test MSE: 1.2167\n"
     ]
    }
   ],
   "source": [
    "mse = lstm_predictor.evaluate(X_test.values, y_test.values)\n",
    "print(f\"Test MSE: {mse:.4f}\")"
   ]
  },
  {
   "cell_type": "code",
   "execution_count": 6,
   "id": "eb354975",
   "metadata": {},
   "outputs": [
    {
     "name": "stdout",
     "output_type": "stream",
     "text": [
      "Validation MSE: 0.0107\n",
      "Shape of y_pred: (2202,)\n",
      "Shape of test_y: (2202,)\n",
      "XGBoost Test MSE: 0.0689\n"
     ]
    }
   ],
   "source": [
    "xgboost_predictor = bus_prediction.XGBoostPredictor()\n",
    "xgboost_predictor.train(X_train.values, y_train.values)\n",
    "xgboost_mse = xgboost_predictor.evaluate(X_test.values, y_test.values)\n",
    "print(f\"XGBoost Test MSE: {xgboost_mse:.4f}\")"
   ]
  },
  {
   "cell_type": "code",
   "execution_count": null,
   "id": "4e708259",
   "metadata": {},
   "outputs": [],
   "source": []
  }
 ],
 "metadata": {
  "kernelspec": {
   "display_name": "python3",
   "language": "python",
   "name": "python3"
  },
  "language_info": {
   "codemirror_mode": {
    "name": "ipython",
    "version": 3
   },
   "file_extension": ".py",
   "mimetype": "text/x-python",
   "name": "python",
   "nbconvert_exporter": "python",
   "pygments_lexer": "ipython3",
   "version": "3.12.6"
  }
 },
 "nbformat": 4,
 "nbformat_minor": 5
}
