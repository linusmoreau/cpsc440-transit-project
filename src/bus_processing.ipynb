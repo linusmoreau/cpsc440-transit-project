{
 "cells": [
  {
   "cell_type": "code",
   "execution_count": null,
   "id": "830bf22d",
   "metadata": {},
   "outputs": [],
   "source": [
    "import datetime\n",
    "import numpy as np\n",
    "import bus_processing\n",
    "import importlib\n",
    "importlib.reload(bus_processing)\n",
    "\n",
    "d = datetime.date(2025, 3, 18)"
   ]
  },
  {
   "cell_type": "code",
   "execution_count": null,
   "id": "a61eda1e",
   "metadata": {},
   "outputs": [],
   "source": [
    "vehicle_df = bus_processing.load_vehicle_data(d)"
   ]
  },
  {
   "cell_type": "code",
   "execution_count": null,
   "id": "6bf1b0cb",
   "metadata": {},
   "outputs": [],
   "source": [
    "schedule_df = bus_processing.load_schedule_data_for_date(d)"
   ]
  },
  {
   "cell_type": "code",
   "execution_count": null,
   "id": "6aaa17e2",
   "metadata": {},
   "outputs": [],
   "source": [
    "delay_df = bus_processing.get_delay_df(vehicle_df, schedule_df)"
   ]
  },
  {
   "cell_type": "code",
   "execution_count": null,
   "id": "d48512d3",
   "metadata": {},
   "outputs": [],
   "source": [
    "import matplotlib.pyplot as plt\n",
    "\n",
    "plt.hist(delay_df[\"delay\"], bins=range(-20, 40))\n",
    "plt.show()"
   ]
  },
  {
   "cell_type": "code",
   "execution_count": null,
   "id": "aedc1fbc",
   "metadata": {},
   "outputs": [],
   "source": [
    "buckets = bus_processing.bucket_by_time(delay_df)"
   ]
  },
  {
   "cell_type": "code",
   "execution_count": null,
   "id": "9bc8dca3",
   "metadata": {},
   "outputs": [],
   "source": [
    "importlib.reload(bus_processing)\n",
    "bus_processing.plot_bucket_statistics(buckets)"
   ]
  },
  {
   "cell_type": "code",
   "execution_count": null,
   "id": "62d9d8d6",
   "metadata": {},
   "outputs": [],
   "source": [
    "importlib.reload(bus_processing)\n",
    "bus_processing.store_time_buckets(d, buckets, \"all\")"
   ]
  },
  {
   "cell_type": "code",
   "execution_count": null,
   "id": "5d8b40a0",
   "metadata": {},
   "outputs": [],
   "source": [
    "import bus_processing\n",
    "import importlib\n",
    "importlib.reload(bus_processing)\n",
    "\n",
    "bus_processing.process_all()"
   ]
  }
 ],
 "metadata": {
  "kernelspec": {
   "display_name": "Python 3",
   "language": "python",
   "name": "python3"
  },
  "language_info": {
   "codemirror_mode": {
    "name": "ipython",
    "version": 3
   },
   "file_extension": ".py",
   "mimetype": "text/x-python",
   "name": "python",
   "nbconvert_exporter": "python",
   "pygments_lexer": "ipython3",
   "version": "3.13.2"
  }
 },
 "nbformat": 4,
 "nbformat_minor": 5
}
