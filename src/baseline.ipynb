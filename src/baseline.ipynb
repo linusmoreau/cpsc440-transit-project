{
 "cells": [
  {
   "cell_type": "markdown",
   "id": "92f0dff4",
   "metadata": {},
   "source": [
    "## Predicting average system-wide delay"
   ]
  },
  {
   "cell_type": "code",
   "execution_count": null,
   "id": "9eb5779e",
   "metadata": {},
   "outputs": [],
   "source": [
    "import bus_processing\n",
    "import bus_prediction\n",
    "\n",
    "bus_data = bus_processing.load_dataset(\"all\")\n",
    "df = bus_processing.add_avg_delay_feature(bus_data)\n",
    "df = bus_processing.add_time_features(df)\n",
    "X_train, y_train, X_test, y_test = bus_processing.divide_dataset(df)"
   ]
  },
  {
   "cell_type": "code",
   "execution_count": 2,
   "id": "0724e229",
   "metadata": {},
   "outputs": [
    {
     "name": "stdout",
     "output_type": "stream",
     "text": [
      "Null Baseline Test MSE: 3.0940\n"
     ]
    }
   ],
   "source": [
    "null_model = bus_prediction.NullModel()\n",
    "null_mse = null_model.evaluate(X_test, y_test)\n",
    "print(f\"Null Baseline Test MSE: {null_mse:.4f}\")"
   ]
  },
  {
   "cell_type": "code",
   "execution_count": 3,
   "id": "6b2da10e",
   "metadata": {},
   "outputs": [
    {
     "name": "stdout",
     "output_type": "stream",
     "text": [
      "Historial Average Test MSE: 0.5416\n"
     ]
    }
   ],
   "source": [
    "baseline_model = bus_prediction.BaselineModel()\n",
    "baseline_model.train(X_train, y_train)\n",
    "baseline_mse = baseline_model.evaluate(X_test, y_test)\n",
    "print(f\"Historial Average Test MSE: {baseline_mse:.4f}\")"
   ]
  },
  {
   "cell_type": "markdown",
   "id": "7612b3bd",
   "metadata": {},
   "source": [
    "## Predicting average route-level delay"
   ]
  },
  {
   "cell_type": "code",
   "execution_count": 4,
   "id": "83890ebc",
   "metadata": {},
   "outputs": [],
   "source": [
    "import bus_processing\n",
    "import bus_prediction\n",
    "\n",
    "bus_data = bus_processing.load_dataset(\"routes\")\n",
    "df = bus_processing.add_avg_delay_feature(bus_data)\n",
    "df = bus_processing.add_time_features(df)\n",
    "X_train, y_train, X_test, y_test = bus_processing.divide_dataset(df)"
   ]
  },
  {
   "cell_type": "code",
   "execution_count": 5,
   "id": "6320b31d",
   "metadata": {},
   "outputs": [
    {
     "name": "stdout",
     "output_type": "stream",
     "text": [
      "Null Baseline Test MSE: 28.9971\n"
     ]
    }
   ],
   "source": [
    "null_model = bus_prediction.NullModel()\n",
    "null_mse = null_model.evaluate(X_test, y_test)\n",
    "print(f\"Null Baseline Test MSE: {null_mse:.4f}\")"
   ]
  },
  {
   "cell_type": "code",
   "execution_count": null,
   "id": "b57e1af6",
   "metadata": {},
   "outputs": [
    {
     "name": "stdout",
     "output_type": "stream",
     "text": [
      "Historial Average Test MSE: 25.1106\n"
     ]
    }
   ],
   "source": [
    "baseline_model = bus_prediction.BaselineModel(by_route=True)\n",
    "baseline_model.train(X_train, y_train)\n",
    "baseline_mse = baseline_model.evaluate(X_test, y_test)\n",
    "print(f\"Historial Average Test MSE: {baseline_mse:.4f}\")"
   ]
  }
 ],
 "metadata": {
  "kernelspec": {
   "display_name": "Python 3",
   "language": "python",
   "name": "python3"
  },
  "language_info": {
   "codemirror_mode": {
    "name": "ipython",
    "version": 3
   },
   "file_extension": ".py",
   "mimetype": "text/x-python",
   "name": "python",
   "nbconvert_exporter": "python",
   "pygments_lexer": "ipython3",
   "version": "3.13.2"
  }
 },
 "nbformat": 4,
 "nbformat_minor": 5
}
