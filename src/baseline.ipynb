{
 "cells": [
  {
   "cell_type": "code",
   "execution_count": 1,
   "id": "9eb5779e",
   "metadata": {},
   "outputs": [
    {
     "name": "stderr",
     "output_type": "stream",
     "text": [
      "c:\\Users\\Linus\\AppData\\Local\\Programs\\Python\\Python313\\Lib\\site-packages\\pytorch_forecasting\\models\\base_model.py:27: TqdmWarning: IProgress not found. Please update jupyter and ipywidgets. See https://ipywidgets.readthedocs.io/en/stable/user_install.html\n",
      "  from tqdm.autonotebook import tqdm\n"
     ]
    }
   ],
   "source": [
    "import bus_processing\n",
    "import bus_prediction\n",
    "\n",
    "bus_data = bus_processing.load_dataset(\"all\")\n",
    "df = bus_processing.add_avg_delay_feature(bus_data)\n",
    "df = bus_processing.add_time_features(df)\n",
    "X_train, y_train, X_test, y_test = bus_processing.divide_dataset(df)"
   ]
  },
  {
   "cell_type": "code",
   "execution_count": 2,
   "id": "0724e229",
   "metadata": {},
   "outputs": [
    {
     "name": "stdout",
     "output_type": "stream",
     "text": [
      "Shape of y_pred: (2202,)\n",
      "Shape of test_y: (2202,)\n",
      "Null Baseline Test MSE: 3.0940\n"
     ]
    }
   ],
   "source": [
    "null_model = bus_prediction.NullModel()\n",
    "null_mse = null_model.evaluate(X_test, y_test)\n",
    "print(f\"Null Baseline Test MSE: {null_mse:.4f}\")"
   ]
  },
  {
   "cell_type": "code",
   "execution_count": 3,
   "id": "6b2da10e",
   "metadata": {},
   "outputs": [
    {
     "name": "stdout",
     "output_type": "stream",
     "text": [
      "Shape of y_pred: (2202,)\n",
      "Shape of test_y: (2202,)\n",
      "Naive Baseline Test MSE: 0.5069\n"
     ]
    }
   ],
   "source": [
    "baseline_model = bus_prediction.BaselineModel()\n",
    "baseline_model.train(X_train, y_train)\n",
    "baseline_mse = baseline_model.evaluate(X_test, y_test)\n",
    "print(f\"Naive Baseline Test MSE: {baseline_mse:.4f}\")"
   ]
  }
 ],
 "metadata": {
  "kernelspec": {
   "display_name": "Python 3",
   "language": "python",
   "name": "python3"
  },
  "language_info": {
   "codemirror_mode": {
    "name": "ipython",
    "version": 3
   },
   "file_extension": ".py",
   "mimetype": "text/x-python",
   "name": "python",
   "nbconvert_exporter": "python",
   "pygments_lexer": "ipython3",
   "version": "3.13.2"
  }
 },
 "nbformat": 4,
 "nbformat_minor": 5
}
