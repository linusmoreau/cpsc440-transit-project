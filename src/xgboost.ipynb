{
 "cells": [
  {
   "cell_type": "code",
   "execution_count": 73,
   "id": "9eb5779e",
   "metadata": {},
   "outputs": [],
   "source": [
    "import bus_processing\n",
    "import importlib\n",
    "importlib.reload(bus_processing)\n",
    "\n",
    "bus_data = bus_processing.load_dataset(\"all\")\n",
    "df = bus_processing.add_avg_delay_feature(bus_data)\n",
    "df = bus_processing.add_time_features(df)\n",
    "X_train, y_train, X_test, y_test = bus_processing.divide_dataset(df)"
   ]
  },
  {
   "cell_type": "code",
   "execution_count": 74,
   "id": "0724e229",
   "metadata": {},
   "outputs": [
    {
     "name": "stdout",
     "output_type": "stream",
     "text": [
      "Validation MSE: 0.5420\n",
      "Shape of y_pred: (2202,)\n",
      "Shape of test_y: (2202,)\n",
      "Shape of y_pred: (2202,)\n",
      "Shape of test_y: (2202,)\n",
      "Shape of y_pred: (2202,)\n",
      "Shape of test_y: (2202,)\n",
      "Null Baseline MSE: 3.0940\n",
      "Naive Baseline MSE: 0.5069\n",
      "XGBoost Test MSE: 0.6392\n"
     ]
    }
   ],
   "source": [
    "import bus_prediction\n",
    "import importlib\n",
    "importlib.reload(bus_prediction)\n",
    "\n",
    "null_model = bus_prediction.NullModel()\n",
    "baseline_model = bus_prediction.BaselineModel()\n",
    "xgboost_predictor = bus_prediction.XGBoostPredictor(learning_rate=0.03, reg_lambda=20)\n",
    "\n",
    "baseline_model.train(X_train, y_train)\n",
    "xgboost_predictor.train(X_train, y_train)\n",
    "\n",
    "null_mse = null_model.evaluate(X_test, y_test)\n",
    "baseline_mse =baseline_model.evaluate(X_test, y_test)\n",
    "xgboost_mse = xgboost_predictor.evaluate(X_test, y_test)\n",
    "print(f\"Null Baseline MSE: {null_mse:.4f}\")\n",
    "print(f\"Naive Baseline MSE: {baseline_mse:.4f}\")\n",
    "print(f\"XGBoost Test MSE: {xgboost_mse:.4f}\")"
   ]
  }
 ],
 "metadata": {
  "kernelspec": {
   "display_name": "Python 3",
   "language": "python",
   "name": "python3"
  },
  "language_info": {
   "codemirror_mode": {
    "name": "ipython",
    "version": 3
   },
   "file_extension": ".py",
   "mimetype": "text/x-python",
   "name": "python",
   "nbconvert_exporter": "python",
   "pygments_lexer": "ipython3",
   "version": "3.13.2"
  }
 },
 "nbformat": 4,
 "nbformat_minor": 5
}
