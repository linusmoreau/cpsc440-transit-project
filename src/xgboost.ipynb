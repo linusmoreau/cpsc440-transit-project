{
 "cells": [
  {
   "cell_type": "code",
   "execution_count": 130,
   "id": "9eb5779e",
   "metadata": {},
   "outputs": [],
   "source": [
    "import bus_processing\n",
    "import importlib\n",
    "importlib.reload(bus_processing)\n",
    "\n",
    "bus_data = bus_processing.load_dataset(\"all\")\n",
    "X_train, y_train, X_test, y_test = bus_processing.prepare_bus_data(bus_data)"
   ]
  },
  {
   "cell_type": "code",
   "execution_count": 131,
   "id": "0724e229",
   "metadata": {},
   "outputs": [
    {
     "name": "stdout",
     "output_type": "stream",
     "text": [
      "Validation MSE: 0.5026\n",
      "Shape of y_pred: (2202,)\n",
      "Shape of test_y: (2202,)\n",
      "Baseline MSE: 3.0940\n",
      "XGBoost Test MSE: 0.6630\n"
     ]
    }
   ],
   "source": [
    "import bus_prediction\n",
    "import importlib\n",
    "importlib.reload(bus_prediction)\n",
    "\n",
    "xgboost_predictor = bus_prediction.XGBoostPredictor(learning_rate=0.03, reg_lambda=20)\n",
    "xgboost_predictor.train(X_train, y_train)\n",
    "xgboost_mse = xgboost_predictor.evaluate(X_test, y_test)\n",
    "print(f\"Baseline MSE: {bus_prediction.mean_squared_error(y_test, [0] * len(y_test)):.4f}\")\n",
    "print(f\"XGBoost Test MSE: {xgboost_mse:.4f}\")"
   ]
  },
  {
   "cell_type": "code",
   "execution_count": 132,
   "id": "2b61d5a1",
   "metadata": {},
   "outputs": [
    {
     "data": {
      "text/plain": [
       "['time_bucket',\n",
       " 'holiday',\n",
       " 'temp',\n",
       " 'dwpt',\n",
       " 'rhum',\n",
       " 'prcp',\n",
       " 'wdir',\n",
       " 'wspd',\n",
       " 'pres',\n",
       " 'coco',\n",
       " 'day_sin',\n",
       " 'day_cos',\n",
       " 'minute_sin',\n",
       " 'minute_cos',\n",
       " 'weekday_sin',\n",
       " 'weekday_cos']"
      ]
     },
     "execution_count": 132,
     "metadata": {},
     "output_type": "execute_result"
    }
   ],
   "source": [
    "list(X_train)"
   ]
  }
 ],
 "metadata": {
  "kernelspec": {
   "display_name": "Python 3",
   "language": "python",
   "name": "python3"
  },
  "language_info": {
   "codemirror_mode": {
    "name": "ipython",
    "version": 3
   },
   "file_extension": ".py",
   "mimetype": "text/x-python",
   "name": "python",
   "nbconvert_exporter": "python",
   "pygments_lexer": "ipython3",
   "version": "3.13.2"
  }
 },
 "nbformat": 4,
 "nbformat_minor": 5
}
